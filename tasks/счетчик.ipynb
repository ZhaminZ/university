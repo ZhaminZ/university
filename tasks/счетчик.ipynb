{
  "cells": [
    {
      "cell_type": "markdown",
      "metadata": {
        "id": "view-in-github",
        "colab_type": "text"
      },
      "source": [
        "<a href=\"https://colab.research.google.com/github/ZhaminZ/university/blob/main/tasks/%D1%81%D1%87%D0%B5%D1%82%D1%87%D0%B8%D0%BA.ipynb\" target=\"_parent\"><img src=\"https://colab.research.google.com/assets/colab-badge.svg\" alt=\"Open In Colab\"/></a>"
      ]
    },
    {
      "cell_type": "code",
      "source": [
        "import random\n",
        "s=101\n",
        "a=random.randint(0,100)\n",
        "k=1\n",
        "while s!=a:\n",
        "  s=int(input())\n",
        "  if s=='выход':\n",
        "    break\n",
        "  if s>a:\n",
        "    print('число боьше заданного')\n",
        "    k+=1\n",
        "  if s<a:\n",
        "    print('число меньше заданного')\n",
        "    k+=1\n",
        "  if s==a:\n",
        "    print(\"красавчик попыток\", k)\n"
      ],
      "metadata": {
        "colab": {
          "base_uri": "https://localhost:8080/"
        },
        "id": "GAjhHLQtBCCH",
        "outputId": "8e1c8d24-5259-4b4f-e55b-6197681f246b"
      },
      "execution_count": 25,
      "outputs": [
        {
          "output_type": "stream",
          "name": "stdout",
          "text": [
            "60\n",
            "число боьше заданного\n",
            "50\n",
            "число боьше заданного\n",
            "55\n",
            "число боьше заданного\n",
            "54\n",
            "число боьше заданного\n",
            "53\n",
            "число боьше заданного\n",
            "52\n",
            "число боьше заданного\n",
            "51\n",
            "число боьше заданного\n",
            "50\n",
            "число боьше заданного\n",
            "40\n",
            "число боьше заданного\n",
            "10\n",
            "число меньше заданного\n",
            "15\n",
            "число меньше заданного\n",
            "27\n",
            "число боьше заданного\n",
            "24\n",
            "число боьше заданного\n",
            "22\n",
            "число боьше заданного\n",
            "21\n",
            "число боьше заданного\n",
            "19\n",
            "число меньше заданного\n",
            "20\n",
            "красавчик попыток 17\n"
          ]
        }
      ]
    }
  ],
  "metadata": {
    "colab": {
      "name": "Добро пожаловать в Colaboratory!",
      "toc_visible": true,
      "provenance": [],
      "include_colab_link": true
    },
    "kernelspec": {
      "display_name": "Python 3",
      "name": "python3"
    }
  },
  "nbformat": 4,
  "nbformat_minor": 0
}